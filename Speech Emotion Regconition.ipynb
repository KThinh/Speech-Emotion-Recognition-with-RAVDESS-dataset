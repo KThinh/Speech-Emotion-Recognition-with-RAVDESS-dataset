{
 "cells": [
  {
   "cell_type": "markdown",
   "id": "e8bb3742-cb9d-4718-8897-16c927aae4f7",
   "metadata": {},
   "source": [
    "# Library"
   ]
  },
  {
   "cell_type": "code",
   "execution_count": 1,
   "id": "56491089-4f66-43d9-a7c7-64e831091cb0",
   "metadata": {
    "scrolled": true
   },
   "outputs": [],
   "source": [
    "import os\n",
    "import random\n",
    "import pickle\n",
    "import numpy as np\n",
    "import pandas as pd\n",
    "from copy import deepcopy\n",
    "\n",
    "# Audio Library\n",
    "import librosa\n",
    "import librosa.util\n",
    "from IPython.display import Audio\n",
    "\n",
    "# Preprocessing data\n",
    "from sklearn.preprocessing import StandardScaler, normalize\n",
    "from sklearn.model_selection import train_test_split\n",
    "from sklearn.metrics import (\n",
    "    accuracy_score,\n",
    "    confusion_matrix,\n",
    "    classification_report\n",
    ")\n",
    "\n",
    "# Model\n",
    "import optuna\n",
    "import torch\n",
    "import torch.nn as nn\n",
    "import torch.nn.functional as F\n",
    "import torch.optim as optim\n",
    "from torch.utils.data import Dataset, DataLoader\n",
    "\n",
    "# Visualize\n",
    "import matplotlib.pyplot as plt\n",
    "import seaborn as sns"
   ]
  },
  {
   "cell_type": "markdown",
   "id": "ae23aea3-eee7-43b7-8f30-5bbb149ec17b",
   "metadata": {},
   "source": [
    "# Functions"
   ]
  },
  {
   "cell_type": "markdown",
   "id": "2e566edf-5f58-49d3-9f2f-5ea48ccc3cc7",
   "metadata": {},
   "source": [
    "## Preprocess"
   ]
  },
  {
   "cell_type": "code",
   "execution_count": 12,
   "id": "fe6456e4-4c19-44cd-b292-fe756ba9dca9",
   "metadata": {},
   "outputs": [],
   "source": [
    "#load data\n",
    "def center_crop(y, target_len):\n",
    "    current_len = len(y)\n",
    "    if current_len <= target_len:\n",
    "        pad_len = target_len - current_len\n",
    "        left = pad_len // 2\n",
    "        right = pad_len - left\n",
    "        return np.pad(y, (left, right))\n",
    "    else:\n",
    "        start = (current_len - target_len) // 2\n",
    "        end = start + target_len\n",
    "        return y[start:end]\n",
    "\n",
    "def load_audio(file_path, duration=3):\n",
    "    y, sr = librosa.load(file_path)\n",
    "    target_len = sr * duration\n",
    "    y = center_crop(y, target_len)\n",
    "    y = librosa.util.normalize(y)\n",
    "    return y, sr"
   ]
  },
  {
   "cell_type": "code",
   "execution_count": 13,
   "id": "2122e1e0-65d7-4273-9863-137f92c656ff",
   "metadata": {},
   "outputs": [],
   "source": [
    "#test audio\n",
    "def test_audio(df, index):\n",
    "    display(df[['emotion']].iloc[index])\n",
    "    return Audio(data=df['audio'].iloc[index], rate=22050)"
   ]
  },
  {
   "cell_type": "code",
   "execution_count": 14,
   "id": "81e68e7c-8a9a-463c-b699-87e6ec245638",
   "metadata": {},
   "outputs": [],
   "source": [
    "#oversampling + pitch shift\n",
    "def pitch_shift_audio(y, sr=22050, max_steps=2):\n",
    "    steps = random.randint(-max_steps, max_steps)\n",
    "    return librosa.effects.pitch_shift(y, sr=sr, n_steps=steps)"
   ]
  },
  {
   "cell_type": "code",
   "execution_count": 15,
   "id": "6ee85ef7-0919-45d7-95fe-5876732d6f83",
   "metadata": {},
   "outputs": [],
   "source": [
    "#add noise\n",
    "def add_noise(y, min_level=0.005, max_level=0.007):\n",
    "    noise_level = np.random.uniform(min_level, max_level)\n",
    "    noise = np.random.randn(len(y))\n",
    "    augmented = y + noise_level * noise\n",
    "    return augmented / np.max(np.abs(augmented))"
   ]
  },
  {
   "cell_type": "markdown",
   "id": "4ce5053d-8b60-45e1-b35f-c08e2cd0ab31",
   "metadata": {},
   "source": [
    "## Feature extraction"
   ]
  },
  {
   "cell_type": "code",
   "execution_count": 16,
   "id": "8ae54578-9040-47cd-b2c8-15fee1234beb",
   "metadata": {},
   "outputs": [],
   "source": [
    "def pad_or_truncate(feat, max_len):\n",
    "    T = feat.shape[1]\n",
    "    if T < max_len:\n",
    "        return np.pad(feat, ((0, 0), (0, max_len - T)), mode='constant')\n",
    "    else:\n",
    "        return feat[:, :max_len]\n",
    "\n",
    "def standardize_clip(feat):\n",
    "    return normalize(feat, norm='l2', axis=0)"
   ]
  },
  {
   "cell_type": "code",
   "execution_count": 17,
   "id": "9e124b99-0506-4596-b455-4c4a5ded33db",
   "metadata": {},
   "outputs": [],
   "source": [
    "def extract_features_stacked(y, sr=22050, max_len=130):\n",
    "    features = []\n",
    "\n",
    "    # MFCC\n",
    "    mfcc = librosa.feature.mfcc(y=y, sr=sr, n_mfcc=40)\n",
    "    mfcc = pad_or_truncate(mfcc, max_len)\n",
    "    mfcc = standardize_clip(mfcc)\n",
    "    features.append(mfcc)\n",
    "\n",
    "    # Mel\n",
    "    mel = librosa.feature.melspectrogram(y=y, sr=sr, n_mels=40)\n",
    "    mel_db = librosa.power_to_db(mel, ref=np.max)\n",
    "    mel_db = pad_or_truncate(mel_db, max_len)\n",
    "    mel_db = standardize_clip(mel_db)\n",
    "    features.append(mel_db)\n",
    "\n",
    "    # Stack and reshape\n",
    "    features = np.stack(features, axis=0)  # shape: (2, 40, T)\n",
    "    features = features.transpose(0, 2, 1)  # shape: (2, T, 40)\n",
    "    return features"
   ]
  },
  {
   "cell_type": "markdown",
   "id": "ce65d103-f388-4398-b032-f889aeed2135",
   "metadata": {},
   "source": [
    "# Loading data"
   ]
  },
  {
   "cell_type": "code",
   "execution_count": 18,
   "id": "046deb4a-2542-491e-be3c-c6b5027185bb",
   "metadata": {},
   "outputs": [],
   "source": [
    "#Load folder\n",
    "root_path = \"RAVDESS\"\n",
    "Ravdess_paths = sorted(os.listdir(root_path))"
   ]
  },
  {
   "cell_type": "code",
   "execution_count": 19,
   "id": "2871f030-16bd-47e5-b17b-1962a0d0e396",
   "metadata": {},
   "outputs": [
    {
     "name": "stdout",
     "output_type": "stream",
     "text": [
      "1440\n"
     ]
    }
   ],
   "source": [
    "#Setup dataframe\n",
    "ravdess_db = pd.DataFrame(columns=['path','actor', 'gender', 'emotion'])\n",
    "count = 0\n",
    "\n",
    "emotion_map = {\n",
    "    1: \"neutral\", 2: \"calm\", 3: \"happy\",\n",
    "    4: \"sad\", 5: \"angry\", 6: \"fearful\",\n",
    "    7: \"disgust\", 8: \"surprised\"\n",
    "}\n",
    "\n",
    "for actor_folder in Ravdess_paths:\n",
    "    actor_path = os.path.join(root_path, actor_folder)\n",
    "    if not os.path.isdir(actor_path):\n",
    "        continue\n",
    "\n",
    "    file_list = os.listdir(actor_path)\n",
    "    for f in file_list:\n",
    "        name_parts  = f.split('.')[0].split('-')\n",
    "        full_path = os.path.join(actor_path, f)\n",
    "        src = int(name_parts[1])\n",
    "        actor = int(name_parts[-1])\n",
    "        emotion = int(name_parts[2])\n",
    "        gender = 1 if actor % 2 == 0 else 0\n",
    "\n",
    "        ravdess_db.loc[count] = [full_path, actor, gender, emotion]\n",
    "        count += 1\n",
    "\n",
    "print (len(ravdess_db))\n",
    "df = ravdess_db\n",
    "df['path'] = df['path'].str.replace('\\\\', '/', regex=False)"
   ]
  },
  {
   "cell_type": "code",
   "execution_count": 20,
   "id": "192bbba6-ab45-439c-b9a8-8f26f8f475ab",
   "metadata": {},
   "outputs": [
    {
     "data": {
      "text/html": [
       "<div>\n",
       "<style scoped>\n",
       "    .dataframe tbody tr th:only-of-type {\n",
       "        vertical-align: middle;\n",
       "    }\n",
       "\n",
       "    .dataframe tbody tr th {\n",
       "        vertical-align: top;\n",
       "    }\n",
       "\n",
       "    .dataframe thead th {\n",
       "        text-align: right;\n",
       "    }\n",
       "</style>\n",
       "<table border=\"1\" class=\"dataframe\">\n",
       "  <thead>\n",
       "    <tr style=\"text-align: right;\">\n",
       "      <th></th>\n",
       "      <th>path</th>\n",
       "      <th>actor</th>\n",
       "      <th>gender</th>\n",
       "      <th>emotion</th>\n",
       "      <th>audio</th>\n",
       "      <th>sr</th>\n",
       "    </tr>\n",
       "  </thead>\n",
       "  <tbody>\n",
       "    <tr>\n",
       "      <th>0</th>\n",
       "      <td>RAVDESS/Actor_01/03-01-01-01-01-01-01.wav</td>\n",
       "      <td>1</td>\n",
       "      <td>0</td>\n",
       "      <td>1</td>\n",
       "      <td>[2.3772009e-05, -5.7711495e-06, -7.6655056e-07...</td>\n",
       "      <td>22050</td>\n",
       "    </tr>\n",
       "    <tr>\n",
       "      <th>1</th>\n",
       "      <td>RAVDESS/Actor_01/03-01-01-01-01-02-01.wav</td>\n",
       "      <td>1</td>\n",
       "      <td>0</td>\n",
       "      <td>1</td>\n",
       "      <td>[-6.009213e-06, 6.20998e-06, -6.8420186e-06, 7...</td>\n",
       "      <td>22050</td>\n",
       "    </tr>\n",
       "    <tr>\n",
       "      <th>2</th>\n",
       "      <td>RAVDESS/Actor_01/03-01-01-01-02-01-01.wav</td>\n",
       "      <td>1</td>\n",
       "      <td>0</td>\n",
       "      <td>1</td>\n",
       "      <td>[-8.8255365e-07, 1.8787647e-07, 5.2544624e-07,...</td>\n",
       "      <td>22050</td>\n",
       "    </tr>\n",
       "    <tr>\n",
       "      <th>3</th>\n",
       "      <td>RAVDESS/Actor_01/03-01-01-01-02-02-01.wav</td>\n",
       "      <td>1</td>\n",
       "      <td>0</td>\n",
       "      <td>1</td>\n",
       "      <td>[-0.0002699747, -9.23348e-05, 2.5009613e-05, -...</td>\n",
       "      <td>22050</td>\n",
       "    </tr>\n",
       "    <tr>\n",
       "      <th>4</th>\n",
       "      <td>RAVDESS/Actor_01/03-01-02-01-01-01-01.wav</td>\n",
       "      <td>1</td>\n",
       "      <td>0</td>\n",
       "      <td>2</td>\n",
       "      <td>[-4.209445e-07, 1.7298688e-06, -3.2236057e-06,...</td>\n",
       "      <td>22050</td>\n",
       "    </tr>\n",
       "  </tbody>\n",
       "</table>\n",
       "</div>"
      ],
      "text/plain": [
       "                                        path  actor  gender  emotion  \\\n",
       "0  RAVDESS/Actor_01/03-01-01-01-01-01-01.wav      1       0        1   \n",
       "1  RAVDESS/Actor_01/03-01-01-01-01-02-01.wav      1       0        1   \n",
       "2  RAVDESS/Actor_01/03-01-01-01-02-01-01.wav      1       0        1   \n",
       "3  RAVDESS/Actor_01/03-01-01-01-02-02-01.wav      1       0        1   \n",
       "4  RAVDESS/Actor_01/03-01-02-01-01-01-01.wav      1       0        2   \n",
       "\n",
       "                                               audio     sr  \n",
       "0  [2.3772009e-05, -5.7711495e-06, -7.6655056e-07...  22050  \n",
       "1  [-6.009213e-06, 6.20998e-06, -6.8420186e-06, 7...  22050  \n",
       "2  [-8.8255365e-07, 1.8787647e-07, 5.2544624e-07,...  22050  \n",
       "3  [-0.0002699747, -9.23348e-05, 2.5009613e-05, -...  22050  \n",
       "4  [-4.209445e-07, 1.7298688e-06, -3.2236057e-06,...  22050  "
      ]
     },
     "execution_count": 20,
     "metadata": {},
     "output_type": "execute_result"
    }
   ],
   "source": [
    "#Load audio files\n",
    "df['audio'] = df['path'].apply(load_audio)\n",
    "df['audio1'] = df['audio'].apply(lambda x: x[0])\n",
    "df['sr'] = df['audio'].apply(lambda x: x[1])\n",
    "\n",
    "df = df.drop(['audio'],axis=1)\n",
    "df.columns = ['path', 'actor', 'gender', 'emotion',\t'audio', 'sr']\n",
    "\n",
    "df.head()"
   ]
  },
  {
   "cell_type": "markdown",
   "id": "a19d9ab4-e188-4408-991c-ec7c268fceb8",
   "metadata": {},
   "source": [
    "1: \"neutral\", 2: \"calm\", 3: \"happy\",\n",
    "\n",
    "4: \"sad\", 5: \"angry\", 6: \"fearful\",\n",
    "\n",
    "7: \"disgust\", 8: \"surprised\""
   ]
  },
  {
   "cell_type": "markdown",
   "id": "7e44399a-d402-45b9-98f2-09700ca33d22",
   "metadata": {},
   "source": [
    "# Data Preparation"
   ]
  },
  {
   "cell_type": "markdown",
   "id": "54f229ca-638b-4b16-802c-23a71925913a",
   "metadata": {},
   "source": [
    "## Oversampling"
   ]
  },
  {
   "cell_type": "code",
   "execution_count": 21,
   "id": "68be5695-442e-4d47-827a-890e6b63a9a6",
   "metadata": {},
   "outputs": [
    {
     "data": {
      "text/plain": [
       "emotion\n",
       "2    192\n",
       "3    192\n",
       "4    192\n",
       "5    192\n",
       "7    192\n",
       "6    192\n",
       "8    192\n",
       "1     96\n",
       "Name: count, dtype: int64"
      ]
     },
     "execution_count": 21,
     "metadata": {},
     "output_type": "execute_result"
    }
   ],
   "source": [
    "#check balance\n",
    "df['emotion'].value_counts()"
   ]
  },
  {
   "cell_type": "code",
   "execution_count": 22,
   "id": "0d1ce2d4-9ac8-4ef3-8234-6a8c0ee23b55",
   "metadata": {
    "scrolled": true
   },
   "outputs": [],
   "source": [
    "#oversampling + pitch shift\n",
    "df_copy = df.copy()\n",
    "neutral_df = df_copy[df_copy['emotion'] == 1]\n",
    "other_df = df_copy[df_copy['emotion'] != 1]\n",
    "\n",
    "target_samples = 192\n",
    "n_to_add = max(0, target_samples - len(neutral_df))\n",
    "\n",
    "augmented = []\n",
    "for _ in range(n_to_add):\n",
    "    sample = neutral_df.sample(1, replace=True).iloc[0]\n",
    "    y = sample['audio']\n",
    "    sr = sample['sr']\n",
    "    y_aug = pitch_shift_audio(y, sr)\n",
    "    y_aug = np.array(y_aug, dtype=np.float32)\n",
    "\n",
    "    new_sample = sample.copy()\n",
    "    new_sample['audio'] = y_aug\n",
    "    augmented.append(new_sample)\n",
    "\n",
    "aug_df = pd.DataFrame(augmented)\n",
    "aug_df['audio'] = aug_df['audio'].apply(lambda x: np.array(x) if isinstance(x, pd.Series) else x)\n",
    "df_balanced = pd.concat([other_df, neutral_df, aug_df]).sample(frac=1, random_state=42).reset_index(drop=True)"
   ]
  },
  {
   "cell_type": "code",
   "execution_count": 23,
   "id": "3ec2d451-2986-4e32-bc5a-4546f1015817",
   "metadata": {},
   "outputs": [
    {
     "data": {
      "text/plain": [
       "emotion\n",
       "6    192\n",
       "4    192\n",
       "1    192\n",
       "5    192\n",
       "3    192\n",
       "2    192\n",
       "8    192\n",
       "7    192\n",
       "Name: count, dtype: int64"
      ]
     },
     "execution_count": 23,
     "metadata": {},
     "output_type": "execute_result"
    }
   ],
   "source": [
    "#check balance\n",
    "df_balanced['emotion'].value_counts()"
   ]
  },
  {
   "cell_type": "markdown",
   "id": "f104d586-556e-40bd-9857-4fdca5d92789",
   "metadata": {},
   "source": [
    "## Add noise"
   ]
  },
  {
   "cell_type": "code",
   "execution_count": 24,
   "id": "dfec0c27-e58a-4be5-a50e-1fbe8134c4a3",
   "metadata": {},
   "outputs": [],
   "source": [
    "#Add noise\n",
    "noisy_samples = []\n",
    "for idx, row in df_balanced.iterrows():\n",
    "    y = row['audio']\n",
    "    sr = row['sr']\n",
    "    y_noisy = add_noise(y)\n",
    "    \n",
    "    new_row = row.copy()\n",
    "    new_row['audio'] = y_noisy\n",
    "    noisy_samples.append(new_row)\n",
    "\n",
    "df_noise = pd.DataFrame(noisy_samples)\n",
    "df_final = pd.concat([df_balanced, df_noise], ignore_index=True).sample(frac=1, random_state=42).reset_index(drop=True)\n",
    "df_final = df_final.iloc[:,1:]\n",
    "df_final = df_final[['emotion', 'audio']]"
   ]
  },
  {
   "cell_type": "code",
   "execution_count": 25,
   "id": "c29f826e-a166-43ae-ba3c-12fd39afa334",
   "metadata": {},
   "outputs": [
    {
     "data": {
      "text/html": [
       "<div>\n",
       "<style scoped>\n",
       "    .dataframe tbody tr th:only-of-type {\n",
       "        vertical-align: middle;\n",
       "    }\n",
       "\n",
       "    .dataframe tbody tr th {\n",
       "        vertical-align: top;\n",
       "    }\n",
       "\n",
       "    .dataframe thead th {\n",
       "        text-align: right;\n",
       "    }\n",
       "</style>\n",
       "<table border=\"1\" class=\"dataframe\">\n",
       "  <thead>\n",
       "    <tr style=\"text-align: right;\">\n",
       "      <th></th>\n",
       "      <th>emotion</th>\n",
       "      <th>audio</th>\n",
       "    </tr>\n",
       "  </thead>\n",
       "  <tbody>\n",
       "    <tr>\n",
       "      <th>0</th>\n",
       "      <td>8</td>\n",
       "      <td>[-0.012822569931418486, 0.009035686581483097, ...</td>\n",
       "    </tr>\n",
       "    <tr>\n",
       "      <th>1</th>\n",
       "      <td>6</td>\n",
       "      <td>[0.0008620186596705079, -0.0035831800170917547...</td>\n",
       "    </tr>\n",
       "    <tr>\n",
       "      <th>2</th>\n",
       "      <td>3</td>\n",
       "      <td>[-0.003979578978156553, -0.00469015487090776, ...</td>\n",
       "    </tr>\n",
       "    <tr>\n",
       "      <th>3</th>\n",
       "      <td>5</td>\n",
       "      <td>[0.00050837494, 0.00026778216, 0.0002876023, 0...</td>\n",
       "    </tr>\n",
       "    <tr>\n",
       "      <th>4</th>\n",
       "      <td>7</td>\n",
       "      <td>[0.0, 0.0, 0.0, 0.0, 0.0, 0.0, 0.0, 0.0, 0.0, ...</td>\n",
       "    </tr>\n",
       "  </tbody>\n",
       "</table>\n",
       "</div>"
      ],
      "text/plain": [
       "   emotion                                              audio\n",
       "0        8  [-0.012822569931418486, 0.009035686581483097, ...\n",
       "1        6  [0.0008620186596705079, -0.0035831800170917547...\n",
       "2        3  [-0.003979578978156553, -0.00469015487090776, ...\n",
       "3        5  [0.00050837494, 0.00026778216, 0.0002876023, 0...\n",
       "4        7  [0.0, 0.0, 0.0, 0.0, 0.0, 0.0, 0.0, 0.0, 0.0, ..."
      ]
     },
     "metadata": {},
     "output_type": "display_data"
    },
    {
     "name": "stdout",
     "output_type": "stream",
     "text": [
      "Shape: (3072, 2)\n"
     ]
    }
   ],
   "source": [
    "display(df_final.head())\n",
    "print('Shape:',df_final.shape)"
   ]
  },
  {
   "cell_type": "markdown",
   "id": "99a80fa5-785d-4ac5-a571-d9fd972c7f5b",
   "metadata": {},
   "source": [
    "# Feature extraction"
   ]
  },
  {
   "cell_type": "code",
   "execution_count": 26,
   "id": "fdf34778-2e02-43d7-bae0-2b45a20434c7",
   "metadata": {},
   "outputs": [],
   "source": [
    "df_final['features'] = df_final['audio'].apply(lambda y: extract_features_stacked(y))\n",
    "X = np.stack(df_final['features'].values, axis=0)  # shape: (N, 2, T, 40)\n",
    "y = df_final['emotion'].values - 1"
   ]
  },
  {
   "cell_type": "code",
   "execution_count": 27,
   "id": "df7bf6c3-ce99-41bf-bd89-f8ed5624b69d",
   "metadata": {},
   "outputs": [
    {
     "name": "stdout",
     "output_type": "stream",
     "text": [
      "(3072, 2, 130, 40) (3072,)\n"
     ]
    },
    {
     "data": {
      "text/plain": [
       "emotion\n",
       "8    384\n",
       "6    384\n",
       "3    384\n",
       "5    384\n",
       "7    384\n",
       "4    384\n",
       "1    384\n",
       "2    384\n",
       "Name: count, dtype: int64"
      ]
     },
     "execution_count": 27,
     "metadata": {},
     "output_type": "execute_result"
    }
   ],
   "source": [
    "print(X.shape, y.shape)\n",
    "df_final['emotion'].value_counts()"
   ]
  },
  {
   "cell_type": "code",
   "execution_count": 28,
   "id": "12d8c880-5563-4cf6-9828-b877829e0f7c",
   "metadata": {},
   "outputs": [
    {
     "data": {
      "image/png": "[encoded data removed]",
      "text/plain": [
       "<Figure size 1400x500 with 4 Axes>"
      ]
     },
     "metadata": {},
     "output_type": "display_data"
    }
   ],
   "source": [
    "sample_idx = 0\n",
    "sample = X[sample_idx]  # (2, 130, 40)\n",
    "methods = ['MFCC', 'Mel-Spectrogram']\n",
    "\n",
    "fig, axes = plt.subplots(1, 2, figsize=(14, 5))\n",
    "for i in range(2):\n",
    "    sns.heatmap(sample[i].T, ax=axes[i], cmap='seismic', cbar=True)\n",
    "    axes[i].set_title(f\"{methods[i]} - Feature Heatmap\")\n",
    "    axes[i].set_xlabel(\"Time Frame\")\n",
    "    axes[i].set_ylabel(\"Feature Index (40)\")\n",
    "plt.tight_layout()\n",
    "plt.show()"
   ]
  },
  {
   "cell_type": "markdown",
   "id": "db3b0bf7-6d37-4db4-a907-6c6ea811f6c7",
   "metadata": {},
   "source": [
    "## Preprocessing"
   ]
  },
  {
   "cell_type": "code",
   "execution_count": 29,
   "id": "22d1a76a-3a09-4c90-9f28-d862659c4fc0",
   "metadata": {},
   "outputs": [],
   "source": [
    "#Mini-batch class\n",
    "class mini_batch(Dataset):\n",
    "    def __init__(self, X, y):\n",
    "        self.X = torch.tensor(X, dtype=torch.float32)\n",
    "        self.y = torch.tensor(y, dtype=torch.long)\n",
    "\n",
    "    def __len__(self):\n",
    "        return len(self.X)\n",
    "\n",
    "    def __getitem__(self, idx):\n",
    "        return self.X[idx], self.y[idx]"
   ]
  },
  {
   "cell_type": "code",
   "execution_count": 30,
   "id": "295b71e3-0534-45fb-b5d9-939f87204d0f",
   "metadata": {},
   "outputs": [],
   "source": [
    "#Train/Test/Val split\n",
    "X_reshape = X[:, np.newaxis, :, :, :]\n",
    "X_train, X_temp, y_train, y_temp = train_test_split(X_reshape, y, test_size=0.2, stratify=y, random_state=42)\n",
    "X_val, X_test, y_val, y_test = train_test_split(X_temp, y_temp, test_size=0.5, stratify=y_temp, random_state=42)"
   ]
  },
  {
   "cell_type": "code",
   "execution_count": 31,
   "id": "b940479b-526a-4673-ab6f-459a5c43b369",
   "metadata": {},
   "outputs": [
    {
     "data": {
      "text/plain": [
       "(2457, 1, 2, 130, 40)"
      ]
     },
     "execution_count": 31,
     "metadata": {},
     "output_type": "execute_result"
    }
   ],
   "source": [
    "X_train.shape"
   ]
  },
  {
   "cell_type": "markdown",
   "id": "a0bb0f93-5ae4-4d47-b42e-e0b192ad71d4",
   "metadata": {},
   "source": [
    "## Mini-batch"
   ]
  },
  {
   "cell_type": "code",
   "execution_count": 32,
   "id": "c0c1a24f-9441-465b-98ef-7cf35853a922",
   "metadata": {},
   "outputs": [],
   "source": [
    "#Create mini-batch\n",
    "train_loader = DataLoader(mini_batch(X_train, y_train), batch_size=32, shuffle=True)\n",
    "val_loader   = DataLoader(mini_batch(X_val, y_val), batch_size=32, shuffle=False)\n",
    "test_loader  = DataLoader(mini_batch(X_test, y_test), batch_size=32, shuffle=False)"
   ]
  },
  {
   "cell_type": "code",
   "execution_count": 33,
   "id": "88ac8e04-d909-4efc-b06e-900263f04b27",
   "metadata": {},
   "outputs": [
    {
     "name": "stdout",
     "output_type": "stream",
     "text": [
      "Batch X shape: torch.Size([32, 1, 2, 130, 40])\n",
      "Batch y shape: torch.Size([32])\n"
     ]
    }
   ],
   "source": [
    "for batch_X, batch_y in train_loader:\n",
    "    print(\"Batch X shape:\", batch_X.shape)\n",
    "    print(\"Batch y shape:\", batch_y.shape)\n",
    "    break"
   ]
  },
  {
   "cell_type": "markdown",
   "id": "557b44f6-64cb-4ea0-b109-4823907a6724",
   "metadata": {},
   "source": [
    "# Modeling"
   ]
  },
  {
   "cell_type": "markdown",
   "id": "7ec67917-709c-4ce6-94da-65edad339cf6",
   "metadata": {},
   "source": [
    "## Build model"
   ]
  },
  {
   "cell_type": "code",
   "execution_count": 34,
   "id": "c706f635-9559-41db-aebf-220699ef8a66",
   "metadata": {},
   "outputs": [],
   "source": [
    "class Conv3D(nn.Module):\n",
    "    def __init__(\n",
    "        self,\n",
    "        num_classes=8,\n",
    "        conv_channels=[32, 64, 128, 128, 256],\n",
    "        dropout=0.3,\n",
    "        fc_dim=128,\n",
    "        input_shape=(1, 2, 130, 40)  # (C, D, T, F)\n",
    "    ):\n",
    "        super().__init__()\n",
    "\n",
    "        self.conv_layers = nn.Sequential()\n",
    "        in_channels = input_shape[0]\n",
    "\n",
    "        for i, out_channels in enumerate(conv_channels):\n",
    "            self.conv_layers.add_module(f\"conv3d_{i}\", nn.Conv3d(\n",
    "                in_channels, out_channels, kernel_size=(3, 3, 3), padding=1\n",
    "            ))\n",
    "            self.conv_layers.add_module(f\"gn_{i}\", nn.GroupNorm(num_groups=4, num_channels=out_channels))\n",
    "            self.conv_layers.add_module(f\"relu_{i}\", nn.ReLU())\n",
    "            self.conv_layers.add_module(f\"dropout3d_{i}\", nn.Dropout3d(p=0.1))\n",
    "            self.conv_layers.add_module(f\"pool_{i}\", nn.MaxPool3d(kernel_size=(1, 2, 2)))  # giảm freq & time\n",
    "            in_channels = out_channels\n",
    "\n",
    "        self.global_pool = nn.AdaptiveAvgPool3d((1, 1, 1))\n",
    "\n",
    "        # Tính dimension sau conv\n",
    "        with torch.no_grad():\n",
    "            dummy = torch.zeros(1, *input_shape)\n",
    "            dummy_out = self.global_pool(self.conv_layers(dummy))\n",
    "            self.flatten_dim = dummy_out.view(1, -1).shape[1]\n",
    "\n",
    "        self.dropout = nn.Dropout(dropout)\n",
    "        self.fc1 = nn.Linear(self.flatten_dim, fc_dim)\n",
    "        self.fc2 = nn.Linear(fc_dim, num_classes)\n",
    "\n",
    "    def forward(self, x):\n",
    "        x = self.conv_layers(x)\n",
    "        x = self.global_pool(x)\n",
    "        x = x.flatten(1)\n",
    "        x = self.dropout(F.relu(self.fc1(x)))\n",
    "        return self.fc2(x)"
   ]
  },
  {
   "cell_type": "markdown",
   "id": "99bd1b91-5905-4bcf-8444-eb1a3bc036c4",
   "metadata": {},
   "source": [
    "## Tuning hyperparameter"
   ]
  },
  {
   "cell_type": "code",
   "execution_count": 26,
   "id": "0cd874af-6855-41b1-82cc-43da5b54b825",
   "metadata": {},
   "outputs": [],
   "source": [
    "def build_model(trial):\n",
    "    conv1 = trial.suggest_categorical(\"conv1\", [16, 32, 64])\n",
    "    conv2 = trial.suggest_categorical(\"conv2\", [32, 64, 128])\n",
    "    conv3 = trial.suggest_categorical(\"conv3\", [64, 128])\n",
    "    conv4 = trial.suggest_categorical(\"conv4\", [128, 256])\n",
    "    conv5 = trial.suggest_categorical(\"conv5\", [128, 256, 384])\n",
    "\n",
    "    dropout = trial.suggest_float(\"dropout\", 0.3, 0.5)\n",
    "    fc_dim = trial.suggest_categorical(\"fc_dim\", [64, 128, 256])\n",
    "\n",
    "    conv_channels = [conv1, conv2, conv3, conv4, conv5]\n",
    "\n",
    "    model = Conv3D(\n",
    "        num_classes=8,\n",
    "        conv_channels=conv_channels,\n",
    "        dropout=dropout,\n",
    "        fc_dim=fc_dim\n",
    "    )\n",
    "\n",
    "    return model"
   ]
  },
  {
   "cell_type": "code",
   "execution_count": 27,
   "id": "66b1b5d8-eb5b-4b15-9b86-82b4e82da081",
   "metadata": {},
   "outputs": [],
   "source": [
    "def objective(trial):\n",
    "    device = torch.device(\"cuda\" if torch.cuda.is_available() else \"cpu\")\n",
    "    model = build_model(trial).to(device)\n",
    "\n",
    "    # Hyperparameter\n",
    "    lr = trial.suggest_float(\"lr\", 1e-4, 1e-2, log=True)\n",
    "    optimizer = optim.Adam(model.parameters(), lr=lr)\n",
    "    criterion = nn.CrossEntropyLoss()\n",
    "\n",
    "    best_val_acc = 0\n",
    "    patience = 5\n",
    "    counter = 0\n",
    "    max_epochs = 30\n",
    "\n",
    "    for epoch in range(max_epochs):\n",
    "        model.train()\n",
    "        for batch_X, batch_y in train_loader:\n",
    "            batch_X, batch_y = batch_X.to(device), batch_y.to(device)\n",
    "            optimizer.zero_grad()\n",
    "            out = model(batch_X)\n",
    "            loss = criterion(out, batch_y)\n",
    "            loss.backward()\n",
    "            optimizer.step()\n",
    "\n",
    "        # Validation\n",
    "        model.eval()\n",
    "        all_preds = []\n",
    "        all_labels = []\n",
    "        with torch.no_grad():\n",
    "            for batch_X, batch_y in val_loader:\n",
    "                batch_X, batch_y = batch_X.to(device), batch_y.to(device)\n",
    "                out = model(batch_X)\n",
    "                preds = out.argmax(dim=1).cpu().numpy()\n",
    "                all_preds.extend(preds)\n",
    "                all_labels.extend(batch_y.cpu().numpy())\n",
    "\n",
    "        val_acc = accuracy_score(all_labels, all_preds)\n",
    "        trial.report(val_acc, step=epoch)\n",
    "\n",
    "        # Early stop\n",
    "        if trial.should_prune():\n",
    "            raise optuna.TrialPruned()\n",
    "            \n",
    "        if val_acc > best_val_acc:\n",
    "            best_val_acc = val_acc\n",
    "            counter = 0\n",
    "        else:\n",
    "            counter += 1\n",
    "            if counter >= patience:\n",
    "                break\n",
    "\n",
    "    return best_val_acc"
   ]
  },
  {
   "cell_type": "code",
   "execution_count": 28,
   "id": "4248bfbc-aa50-4723-b542-c8587cd2ecf8",
   "metadata": {},
   "outputs": [
    {
     "name": "stderr",
     "output_type": "stream",
     "text": [
      "[I 2025-08-01 19:42:00,928] A new study created in memory with name: no-name-26a010df-6f47-46a8-a963-674ea8c9f44c\n",
      "[I 2025-08-01 19:42:46,410] Trial 0 finished with value: 0.7296416938110749 and parameters: {'conv1': 32, 'conv2': 32, 'conv3': 64, 'conv4': 128, 'conv5': 256, 'dropout': 0.34179666778925294, 'fc_dim': 64, 'lr': 0.00048636395874931374}. Best is trial 0 with value: 0.7296416938110749.\n",
      "[I 2025-08-01 19:43:07,025] Trial 1 finished with value: 0.1270358306188925 and parameters: {'conv1': 64, 'conv2': 64, 'conv3': 128, 'conv4': 256, 'conv5': 256, 'dropout': 0.4419290958701158, 'fc_dim': 128, 'lr': 0.0010046838516275687}. Best is trial 0 with value: 0.7296416938110749.\n",
      "[I 2025-08-01 19:43:55,307] Trial 2 finished with value: 0.6579804560260586 and parameters: {'conv1': 32, 'conv2': 32, 'conv3': 64, 'conv4': 256, 'conv5': 384, 'dropout': 0.45668402410726255, 'fc_dim': 256, 'lr': 0.0008770023893032304}. Best is trial 0 with value: 0.7296416938110749.\n",
      "[I 2025-08-01 19:44:38,214] Trial 3 finished with value: 0.745928338762215 and parameters: {'conv1': 32, 'conv2': 32, 'conv3': 64, 'conv4': 128, 'conv5': 384, 'dropout': 0.39483108640508474, 'fc_dim': 128, 'lr': 0.00017890610981098336}. Best is trial 3 with value: 0.745928338762215.\n",
      "[I 2025-08-01 19:44:48,922] Trial 4 finished with value: 0.1270358306188925 and parameters: {'conv1': 32, 'conv2': 64, 'conv3': 64, 'conv4': 128, 'conv5': 384, 'dropout': 0.3005562031758202, 'fc_dim': 128, 'lr': 0.00964341372280116}. Best is trial 3 with value: 0.745928338762215.\n",
      "[I 2025-08-01 19:44:55,121] Trial 5 pruned. \n",
      "[I 2025-08-01 19:45:02,271] Trial 6 pruned. \n",
      "[I 2025-08-01 19:45:07,386] Trial 7 pruned. \n",
      "[I 2025-08-01 19:46:34,315] Trial 8 finished with value: 0.8566775244299675 and parameters: {'conv1': 32, 'conv2': 128, 'conv3': 128, 'conv4': 256, 'conv5': 256, 'dropout': 0.3465114980953667, 'fc_dim': 256, 'lr': 0.00032458214530867163}. Best is trial 8 with value: 0.8566775244299675.\n",
      "[I 2025-08-01 19:47:13,712] Trial 9 finished with value: 0.7980456026058632 and parameters: {'conv1': 16, 'conv2': 32, 'conv3': 64, 'conv4': 256, 'conv5': 256, 'dropout': 0.4553071307186702, 'fc_dim': 256, 'lr': 0.00015225175003117248}. Best is trial 8 with value: 0.8566775244299675.\n",
      "[I 2025-08-01 19:47:32,087] Trial 10 pruned. \n",
      "[I 2025-08-01 19:47:44,896] Trial 11 pruned. \n",
      "[I 2025-08-01 19:49:01,338] Trial 12 finished with value: 0.8534201954397395 and parameters: {'conv1': 16, 'conv2': 128, 'conv3': 128, 'conv4': 256, 'conv5': 256, 'dropout': 0.4250649857118216, 'fc_dim': 256, 'lr': 0.00010620934282190801}. Best is trial 8 with value: 0.8566775244299675.\n",
      "[I 2025-08-01 19:49:24,316] Trial 13 pruned. \n",
      "[I 2025-08-01 19:50:40,628] Trial 14 finished with value: 0.8436482084690554 and parameters: {'conv1': 16, 'conv2': 128, 'conv3': 128, 'conv4': 256, 'conv5': 256, 'dropout': 0.36870592195699303, 'fc_dim': 256, 'lr': 0.00010984077511478573}. Best is trial 8 with value: 0.8566775244299675.\n",
      "[I 2025-08-01 19:50:51,927] Trial 15 pruned. \n",
      "[I 2025-08-01 19:52:05,556] Trial 16 finished with value: 0.8697068403908795 and parameters: {'conv1': 16, 'conv2': 128, 'conv3': 128, 'conv4': 256, 'conv5': 128, 'dropout': 0.302706072464885, 'fc_dim': 256, 'lr': 0.0003336907679588947}. Best is trial 16 with value: 0.8697068403908795.\n",
      "[I 2025-08-01 19:52:14,006] Trial 17 pruned. \n",
      "[I 2025-08-01 19:52:33,669] Trial 18 pruned. \n",
      "[I 2025-08-01 19:52:41,034] Trial 19 pruned. \n",
      "[I 2025-08-01 19:52:46,029] Trial 20 pruned. \n",
      "[I 2025-08-01 19:52:51,191] Trial 21 pruned. \n",
      "[I 2025-08-01 19:54:07,584] Trial 22 finished with value: 0.8306188925081434 and parameters: {'conv1': 16, 'conv2': 128, 'conv3': 128, 'conv4': 256, 'conv5': 256, 'dropout': 0.418368763436836, 'fc_dim': 256, 'lr': 0.00010673952764239471}. Best is trial 16 with value: 0.8697068403908795.\n",
      "[I 2025-08-01 19:54:12,551] Trial 23 pruned. \n",
      "[I 2025-08-01 19:54:17,700] Trial 24 pruned. \n",
      "[I 2025-08-01 19:54:37,343] Trial 25 pruned. \n",
      "[I 2025-08-01 19:54:42,495] Trial 26 pruned. \n",
      "[I 2025-08-01 19:55:04,599] Trial 27 pruned. \n",
      "[I 2025-08-01 19:55:10,099] Trial 28 pruned. \n",
      "[I 2025-08-01 19:55:13,621] Trial 29 pruned. \n",
      "[I 2025-08-01 19:55:22,330] Trial 30 pruned. \n",
      "[I 2025-08-01 19:55:27,508] Trial 31 pruned. \n",
      "[I 2025-08-01 19:56:44,302] Trial 32 finished with value: 0.8403908794788274 and parameters: {'conv1': 16, 'conv2': 128, 'conv3': 128, 'conv4': 256, 'conv5': 256, 'dropout': 0.3573205838830185, 'fc_dim': 256, 'lr': 0.00015636346027170795}. Best is trial 16 with value: 0.8697068403908795.\n",
      "[I 2025-08-01 19:56:48,888] Trial 33 pruned. \n",
      "[I 2025-08-01 19:56:54,055] Trial 34 pruned. \n",
      "[I 2025-08-01 19:56:57,867] Trial 35 pruned. \n",
      "[I 2025-08-01 19:57:20,713] Trial 36 pruned. \n",
      "[I 2025-08-01 19:57:28,646] Trial 37 pruned. \n",
      "[I 2025-08-01 19:57:34,235] Trial 38 pruned. \n",
      "[I 2025-08-01 19:57:41,932] Trial 39 pruned. \n",
      "[I 2025-08-01 19:57:54,912] Trial 40 pruned. \n",
      "[I 2025-08-01 19:58:00,078] Trial 41 pruned. \n",
      "[I 2025-08-01 19:58:17,980] Trial 42 pruned. \n",
      "[I 2025-08-01 19:58:23,153] Trial 43 pruned. \n",
      "[I 2025-08-01 19:59:39,722] Trial 44 finished with value: 0.8436482084690554 and parameters: {'conv1': 16, 'conv2': 128, 'conv3': 128, 'conv4': 256, 'conv5': 256, 'dropout': 0.30089188741491935, 'fc_dim': 256, 'lr': 0.0001315349268671411}. Best is trial 16 with value: 0.8697068403908795.\n",
      "[I 2025-08-01 19:59:44,919] Trial 45 pruned. \n",
      "[I 2025-08-01 20:00:00,838] Trial 46 pruned. \n",
      "[I 2025-08-01 20:00:05,290] Trial 47 pruned. \n",
      "[I 2025-08-01 20:00:21,355] Trial 48 pruned. \n",
      "[I 2025-08-01 20:00:29,051] Trial 49 pruned. \n"
     ]
    },
    {
     "name": "stdout",
     "output_type": "stream",
     "text": [
      "16\n",
      "0.8697068403908795\n",
      "{'conv1': 16, 'conv2': 128, 'conv3': 128, 'conv4': 256, 'conv5': 128, 'dropout': 0.302706072464885, 'fc_dim': 256, 'lr': 0.0003336907679588947}\n"
     ]
    }
   ],
   "source": [
    "study_hyperparam = optuna.create_study(direction=\"maximize\")\n",
    "study_hyperparam.optimize(objective, n_trials=50)\n",
    "\n",
    "best_trial = study_hyperparam.best_trial\n",
    "print(best_trial.number)\n",
    "print(best_trial.value)\n",
    "print(best_trial.params)"
   ]
  },
  {
   "cell_type": "markdown",
   "id": "5499b987-c24a-46fa-bed4-47bf7b06659a",
   "metadata": {},
   "source": [
    "## Training model"
   ]
  },
  {
   "cell_type": "code",
   "execution_count": 39,
   "id": "3130f021-c081-4f4b-9b01-1f491ee27c74",
   "metadata": {},
   "outputs": [
    {
     "name": "stdout",
     "output_type": "stream",
     "text": [
      "Epoch 01 | Train Loss: 2.0980 | Train Accuracy: 0.1270 | Val Loss: 2.0825 | Val Accuracy: 0.1270\n",
      "Epoch 02 | Train Loss: 2.0907 | Train Accuracy: 0.1254 | Val Loss: 2.0793 | Val Accuracy: 0.1238\n",
      "Epoch 03 | Train Loss: 2.0376 | Train Accuracy: 0.1640 | Val Loss: 1.9854 | Val Accuracy: 0.2150\n",
      "Epoch 04 | Train Loss: 1.9682 | Train Accuracy: 0.1998 | Val Loss: 1.9429 | Val Accuracy: 0.2378\n",
      "Epoch 05 | Train Loss: 1.9299 | Train Accuracy: 0.2295 | Val Loss: 1.8887 | Val Accuracy: 0.2573\n",
      "Epoch 06 | Train Loss: 1.8869 | Train Accuracy: 0.2678 | Val Loss: 1.8135 | Val Accuracy: 0.3029\n",
      "Epoch 07 | Train Loss: 1.7470 | Train Accuracy: 0.3264 | Val Loss: 1.6537 | Val Accuracy: 0.3648\n",
      "Epoch 08 | Train Loss: 1.6608 | Train Accuracy: 0.3565 | Val Loss: 1.5836 | Val Accuracy: 0.4137\n",
      "Epoch 09 | Train Loss: 1.5860 | Train Accuracy: 0.3919 | Val Loss: 1.4972 | Val Accuracy: 0.4463\n",
      "Epoch 10 | Train Loss: 1.5251 | Train Accuracy: 0.4082 | Val Loss: 1.4571 | Val Accuracy: 0.4235\n",
      "Epoch 11 | Train Loss: 1.4271 | Train Accuracy: 0.4567 | Val Loss: 1.4132 | Val Accuracy: 0.4658\n",
      "Epoch 12 | Train Loss: 1.3447 | Train Accuracy: 0.4860 | Val Loss: 1.2767 | Val Accuracy: 0.5179\n",
      "Epoch 13 | Train Loss: 1.2459 | Train Accuracy: 0.5303 | Val Loss: 1.2247 | Val Accuracy: 0.5342\n",
      "Epoch 14 | Train Loss: 1.2125 | Train Accuracy: 0.5417 | Val Loss: 1.1884 | Val Accuracy: 0.5733\n",
      "Epoch 15 | Train Loss: 1.1549 | Train Accuracy: 0.5560 | Val Loss: 1.1001 | Val Accuracy: 0.5798\n",
      "Epoch 16 | Train Loss: 1.0402 | Train Accuracy: 0.6138 | Val Loss: 1.0433 | Val Accuracy: 0.6254\n",
      "Epoch 17 | Train Loss: 0.9420 | Train Accuracy: 0.6479 | Val Loss: 0.9512 | Val Accuracy: 0.6580\n",
      "Epoch 18 | Train Loss: 0.8686 | Train Accuracy: 0.6789 | Val Loss: 0.8320 | Val Accuracy: 0.6938\n",
      "Epoch 19 | Train Loss: 0.7921 | Train Accuracy: 0.7131 | Val Loss: 0.7807 | Val Accuracy: 0.7166\n",
      "Epoch 20 | Train Loss: 0.7766 | Train Accuracy: 0.7102 | Val Loss: 0.7195 | Val Accuracy: 0.7492\n",
      "Epoch 21 | Train Loss: 0.6844 | Train Accuracy: 0.7554 | Val Loss: 0.8480 | Val Accuracy: 0.6808\n",
      "Epoch 22 | Train Loss: 0.6303 | Train Accuracy: 0.7713 | Val Loss: 0.8561 | Val Accuracy: 0.6906\n",
      "Epoch 23 | Train Loss: 0.5684 | Train Accuracy: 0.7998 | Val Loss: 0.7094 | Val Accuracy: 0.7362\n",
      "Epoch 24 | Train Loss: 0.5384 | Train Accuracy: 0.8030 | Val Loss: 0.7520 | Val Accuracy: 0.7199\n",
      "Epoch 25 | Train Loss: 0.4473 | Train Accuracy: 0.8433 | Val Loss: 0.5360 | Val Accuracy: 0.7883\n",
      "Epoch 26 | Train Loss: 0.3815 | Train Accuracy: 0.8734 | Val Loss: 0.4269 | Val Accuracy: 0.8143\n",
      "Epoch 27 | Train Loss: 0.3510 | Train Accuracy: 0.8840 | Val Loss: 0.5229 | Val Accuracy: 0.8176\n",
      "Epoch 28 | Train Loss: 0.3019 | Train Accuracy: 0.9003 | Val Loss: 0.3619 | Val Accuracy: 0.8697\n",
      "Epoch 29 | Train Loss: 0.2811 | Train Accuracy: 0.9027 | Val Loss: 0.4812 | Val Accuracy: 0.8404\n",
      "Epoch 30 | Train Loss: 0.2399 | Train Accuracy: 0.9149 | Val Loss: 0.3719 | Val Accuracy: 0.8534\n",
      "Epoch 31 | Train Loss: 0.2292 | Train Accuracy: 0.9231 | Val Loss: 0.3453 | Val Accuracy: 0.8730\n",
      "Epoch 32 | Train Loss: 0.2432 | Train Accuracy: 0.9137 | Val Loss: 0.3706 | Val Accuracy: 0.8762\n",
      "Epoch 33 | Train Loss: 0.1806 | Train Accuracy: 0.9430 | Val Loss: 0.2944 | Val Accuracy: 0.8958\n",
      "Epoch 34 | Train Loss: 0.1442 | Train Accuracy: 0.9585 | Val Loss: 0.2491 | Val Accuracy: 0.9251\n",
      "Epoch 35 | Train Loss: 0.1182 | Train Accuracy: 0.9634 | Val Loss: 0.2970 | Val Accuracy: 0.9121\n",
      "Epoch 36 | Train Loss: 0.1073 | Train Accuracy: 0.9683 | Val Loss: 0.2507 | Val Accuracy: 0.9186\n",
      "Epoch 37 | Train Loss: 0.1013 | Train Accuracy: 0.9699 | Val Loss: 0.4539 | Val Accuracy: 0.8697\n",
      "Epoch 38 | Train Loss: 0.1078 | Train Accuracy: 0.9662 | Val Loss: 0.2116 | Val Accuracy: 0.9316\n",
      "Epoch 39 | Train Loss: 0.0880 | Train Accuracy: 0.9744 | Val Loss: 0.2654 | Val Accuracy: 0.9023\n",
      "Epoch 40 | Train Loss: 0.0990 | Train Accuracy: 0.9691 | Val Loss: 0.2922 | Val Accuracy: 0.9218\n",
      "Epoch 41 | Train Loss: 0.0789 | Train Accuracy: 0.9764 | Val Loss: 0.2330 | Val Accuracy: 0.9283\n",
      "Epoch 42 | Train Loss: 0.1017 | Train Accuracy: 0.9670 | Val Loss: 0.1999 | Val Accuracy: 0.9349\n",
      "Epoch 43 | Train Loss: 0.0700 | Train Accuracy: 0.9784 | Val Loss: 0.2765 | Val Accuracy: 0.9088\n",
      "Epoch 44 | Train Loss: 0.0659 | Train Accuracy: 0.9788 | Val Loss: 0.3039 | Val Accuracy: 0.9088\n",
      "Epoch 45 | Train Loss: 0.0594 | Train Accuracy: 0.9825 | Val Loss: 0.2713 | Val Accuracy: 0.9316\n",
      "Epoch 46 | Train Loss: 0.0542 | Train Accuracy: 0.9841 | Val Loss: 0.2297 | Val Accuracy: 0.9446\n",
      "Epoch 47 | Train Loss: 0.0546 | Train Accuracy: 0.9825 | Val Loss: 0.2546 | Val Accuracy: 0.9381\n",
      "Epoch 48 | Train Loss: 0.0836 | Train Accuracy: 0.9715 | Val Loss: 0.2339 | Val Accuracy: 0.9414\n",
      "Epoch 49 | Train Loss: 0.0647 | Train Accuracy: 0.9776 | Val Loss: 0.1895 | Val Accuracy: 0.9381\n",
      "Epoch 50 | Train Loss: 0.0447 | Train Accuracy: 0.9849 | Val Loss: 0.1746 | Val Accuracy: 0.9479\n",
      "Epoch 51 | Train Loss: 0.0315 | Train Accuracy: 0.9906 | Val Loss: 0.1749 | Val Accuracy: 0.9381\n",
      "Epoch 52 | Train Loss: 0.0419 | Train Accuracy: 0.9870 | Val Loss: 0.1835 | Val Accuracy: 0.9414\n",
      "Epoch 53 | Train Loss: 0.0345 | Train Accuracy: 0.9915 | Val Loss: 0.1593 | Val Accuracy: 0.9707\n",
      "Epoch 54 | Train Loss: 0.0281 | Train Accuracy: 0.9927 | Val Loss: 0.1795 | Val Accuracy: 0.9479\n",
      "Epoch 55 | Train Loss: 0.0290 | Train Accuracy: 0.9927 | Val Loss: 0.1758 | Val Accuracy: 0.9479\n",
      "Epoch 56 | Train Loss: 0.0853 | Train Accuracy: 0.9731 | Val Loss: 0.2986 | Val Accuracy: 0.9251\n",
      "Epoch 57 | Train Loss: 0.0302 | Train Accuracy: 0.9910 | Val Loss: 0.1746 | Val Accuracy: 0.9381\n",
      "Early stopped at epoch 57\n",
      "\n",
      "Test Accuracy: 0.9351\n",
      "\n",
      "Classification Report:\n",
      "              precision    recall  f1-score   support\n",
      "\n",
      "           0     1.0000    0.9737    0.9867        38\n",
      "           1     0.9268    1.0000    0.9620        38\n",
      "           2     0.9189    0.8947    0.9067        38\n",
      "           3     0.9268    0.9744    0.9500        39\n",
      "           4     0.8667    1.0000    0.9286        39\n",
      "           5     0.9024    0.9487    0.9250        39\n",
      "           6     0.9697    0.8421    0.9014        38\n",
      "           7     1.0000    0.8462    0.9167        39\n",
      "\n",
      "    accuracy                         0.9351       308\n",
      "   macro avg     0.9389    0.9350    0.9346       308\n",
      "weighted avg     0.9387    0.9351    0.9346       308\n",
      "\n"
     ]
    }
   ],
   "source": [
    "device = torch.device(\"cuda\" if torch.cuda.is_available() else \"cpu\")\n",
    "num_epochs = 100\n",
    "\n",
    "train_loss_list, val_loss_list = [], []\n",
    "train_acc_list, val_acc_list = [], []\n",
    "\n",
    "model = Conv3D(\n",
    "    num_classes=8,\n",
    "    conv_channels=[16, 128, 128, 256, 128],\n",
    "    dropout=0.3027,\n",
    "    fc_dim=128,\n",
    "    input_shape=(1, 2, 130, 40)\n",
    ").to(device)\n",
    "\n",
    "optimizer = torch.optim.Adam(model.parameters(), lr= 0.00033369)\n",
    "criterion = nn.CrossEntropyLoss()\n",
    "\n",
    "best_acc = 0\n",
    "counter = 0\n",
    "patience = 5\n",
    "\n",
    "for epoch in range(num_epochs):\n",
    "    # ----- TRAIN -----\n",
    "    model.train()\n",
    "    train_loss, train_preds, train_labels = 0, [], []\n",
    "    for batch_X, batch_y in train_loader:\n",
    "        batch_X, batch_y = batch_X.to(device), batch_y.to(device)\n",
    "        \n",
    "        optimizer.zero_grad()\n",
    "        output = model(batch_X)\n",
    "        loss = criterion(output, batch_y)\n",
    "        loss.backward()\n",
    "        optimizer.step()\n",
    "\n",
    "        train_loss += loss.item()\n",
    "        train_preds.extend(output.argmax(dim=1).cpu().numpy())\n",
    "        train_labels.extend(batch_y.cpu().numpy())\n",
    "\n",
    "    train_acc = accuracy_score(train_labels, train_preds)\n",
    "    train_loss /= len(train_loader)\n",
    "\n",
    "    # ----- VALIDATION -----\n",
    "    model.eval()\n",
    "    val_loss, val_preds, val_labels = 0, [], []\n",
    "    with torch.no_grad():\n",
    "        for batch_X, batch_y in val_loader:\n",
    "            batch_X, batch_y = batch_X.to(device), batch_y.to(device)\n",
    "            output = model(batch_X)\n",
    "            loss = criterion(output, batch_y)\n",
    "            val_loss += loss.item()\n",
    "            val_preds.extend(output.argmax(dim=1).cpu().numpy())\n",
    "            val_labels.extend(batch_y.cpu().numpy())\n",
    "\n",
    "    val_acc = accuracy_score(val_labels, val_preds)\n",
    "    val_loss /= len(val_loader)\n",
    "\n",
    "    if val_acc > best_acc:\n",
    "        best_acc = val_acc\n",
    "        counter = 0\n",
    "        best_model = deepcopy(model.state_dict())\n",
    "    else:\n",
    "        counter += 1\n",
    "        if counter >= patience:\n",
    "            print(f\"Early stopped at epoch {epoch}\")\n",
    "            break\n",
    "\n",
    "    train_loss_list.append(train_loss)\n",
    "    val_loss_list.append(val_loss)\n",
    "    train_acc_list.append(train_acc)\n",
    "    val_acc_list.append(val_acc)\n",
    "\n",
    "    # ----- LOG -----\n",
    "    print(f\"Epoch {epoch+1:02d} | \"\n",
    "          f\"Train Loss: {train_loss:.4f} | Train Accuracy: {train_acc:.4f} | \"\n",
    "          f\"Val Loss: {val_loss:.4f} | Val Accuracy: {val_acc:.4f}\")\n",
    "\n",
    "model.eval()\n",
    "all_preds, all_labels = [], []\n",
    "\n",
    "with torch.no_grad():\n",
    "    for batch_X, batch_y in test_loader:\n",
    "        batch_X = batch_X.to(device)\n",
    "        output = model(batch_X)\n",
    "        preds = output.argmax(dim=1).cpu().numpy()\n",
    "        all_preds.extend(preds)\n",
    "        all_labels.extend(batch_y.numpy())\n",
    "\n",
    "acc = accuracy_score(all_labels, all_preds)\n",
    "print(f\"\\nTest Accuracy: {acc:.4f}\")\n",
    "print(\"\\nClassification Report:\")\n",
    "print(classification_report(all_labels, all_preds, digits=4))"
   ]
  },
  {
   "cell_type": "markdown",
   "id": "00921aed-8546-4db2-b76e-b4402b4c0f76",
   "metadata": {},
   "source": [
    "## Evaluate"
   ]
  },
  {
   "cell_type": "code",
   "execution_count": 40,
   "id": "0053a6a7-8683-43c4-bca5-3a724bb83b00",
   "metadata": {},
   "outputs": [
    {
     "data": {
      "image/png": "[encoded data removed]",
      "text/plain": [
       "<Figure size 1200x500 with 2 Axes>"
      ]
     },
     "metadata": {},
     "output_type": "display_data"
    }
   ],
   "source": [
    "epochs_range = range(1, len(train_loss_list) + 1)\n",
    "\n",
    "plt.figure(figsize=(12, 5))\n",
    "\n",
    "# Plot Loss\n",
    "plt.subplot(1, 2, 1)\n",
    "plt.plot(epochs_range, train_loss_list, label='Train Loss')\n",
    "plt.plot(epochs_range, val_loss_list, label='Validation Loss')\n",
    "plt.xlabel('Epoch')\n",
    "plt.ylabel('Loss')\n",
    "plt.title('Loss over Epochs')\n",
    "plt.legend()\n",
    "\n",
    "# Plot Accuracy\n",
    "plt.subplot(1, 2, 2)\n",
    "plt.plot(epochs_range, train_acc_list, label='Train Accuracy')\n",
    "plt.plot(epochs_range, val_acc_list, label='Validation Accuracy')\n",
    "plt.xlabel('Epoch')\n",
    "plt.ylabel('Accuracy')\n",
    "plt.title('Accuracy over Epochs')\n",
    "plt.legend()\n",
    "\n",
    "plt.tight_layout()\n",
    "plt.show()"
   ]
  },
  {
   "cell_type": "code",
   "execution_count": 41,
   "id": "e81fa708-dff3-4f62-865b-434fa4420c8d",
   "metadata": {},
   "outputs": [
    {
     "data": {
      "image/png": "[encoded data removed]",
      "text/plain": [
       "<Figure size 800x600 with 2 Axes>"
      ]
     },
     "metadata": {},
     "output_type": "display_data"
    }
   ],
   "source": [
    "cm = confusion_matrix(all_labels, all_preds)\n",
    "plt.figure(figsize=(8, 6))\n",
    "sns.heatmap(cm, annot=True, fmt=\"d\", cmap=\"Blues\", xticklabels=range(8), yticklabels=range(8))\n",
    "plt.xlabel(\"Predicted\")\n",
    "plt.ylabel(\"True\")\n",
    "plt.title(\"Confusion Matrix\")\n",
    "plt.show()"
   ]
  },
  {
   "cell_type": "code",
   "execution_count": 42,
   "id": "4712e587-2075-43c0-b9bf-5a0bbec63bec",
   "metadata": {},
   "outputs": [],
   "source": [
    "#save model\n",
    "torch.save(model, \"3DCNN_model.pt\")"
   ]
  }
 ],
 "metadata": {
  "kernelspec": {
   "display_name": "Python 3 (ipykernel)",
   "language": "python",
   "name": "python3"
  },
  "language_info": {
   "codemirror_mode": {
    "name": "ipython",
    "version": 3
   },
   "file_extension": ".py",
   "mimetype": "text/x-python",
   "name": "python",
   "nbconvert_exporter": "python",
   "pygments_lexer": "ipython3",
   "version": "3.11.13"
  }
 },
 "nbformat": 4,
 "nbformat_minor": 5
}
